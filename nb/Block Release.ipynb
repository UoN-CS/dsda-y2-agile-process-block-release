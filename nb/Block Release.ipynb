{
 "cells": [
  {
   "cell_type": "markdown",
   "id": "bf23d394-64a0-4189-8c56-70a778797a91",
   "metadata": {
    "pycharm": {
     "name": "#%% md\n"
    }
   },
   "source": [
    "# Block Release\n",
    "\n",
    "This notebook contains the skeleton of the code to be used for the tasks."
   ]
  },
  {
   "cell_type": "markdown",
   "id": "dd126b81-5c5d-402f-be13-0849c5f0645f",
   "metadata": {
    "pycharm": {
     "name": "#%% md\n"
    }
   },
   "source": [
    "## Imports"
   ]
  },
  {
   "cell_type": "code",
   "execution_count": 4,
   "id": "b6d4f302-3243-4a85-8e86-45ffa3b66dcb",
   "metadata": {
    "tags": [],
    "pycharm": {
     "name": "#%%\n"
    }
   },
   "outputs": [],
   "source": [
    "import pandas as pd\n",
    "import requests"
   ]
  },
  {
   "cell_type": "markdown",
   "id": "ef2764d3-9668-42c4-a0c7-18f2b849f1bb",
   "metadata": {
    "tags": [],
    "pycharm": {
     "name": "#%% md\n"
    }
   },
   "source": [
    "## Locations"
   ]
  },
  {
   "cell_type": "code",
   "execution_count": 7,
   "id": "a0d51268-a911-4300-ba82-ddbfa96f9e36",
   "metadata": {
    "tags": [],
    "pycharm": {
     "name": "#%%\n"
    }
   },
   "outputs": [],
   "source": [
    "# coordinates are latitude, longitude pairs\n",
    "LOCATION_UNIVERSITY_PARK = (52.93726647677705, -1.1959384006396074)\n",
    "LOCATION_JUBILEE_CAMPUS = (52.95232635429298, -1.1862643609249397)\n",
    "LOCATION_NOTTINGHAM_CITY_CENTRE = (52.953, -1.149)"
   ]
  },
  {
   "cell_type": "markdown",
   "id": "092caed0-a70a-4fbc-92c1-345bc2a33dc2",
   "metadata": {
    "pycharm": {
     "name": "#%% md\n"
    }
   },
   "source": [
    "## API\n",
    "\n",
    "You will need to add more API URLs here as needed to complete the stories."
   ]
  },
  {
   "cell_type": "code",
   "execution_count": 8,
   "id": "a1b208a0-88d8-48e6-bcdd-c2001d3dbdee",
   "metadata": {
    "tags": [],
    "pycharm": {
     "name": "#%%\n"
    }
   },
   "outputs": [],
   "source": [
    "API_STREET_CRIME = \"https://data.police.uk/api/crimes-street/\"\n",
    "API_FORCE_URLS = \"https://data.police.uk/api/\""
   ]
  },
  {
   "cell_type": "markdown",
   "id": "e0aa343a-c9c9-41d5-80bc-17a71d639a6c",
   "metadata": {
    "pycharm": {
     "name": "#%% md\n"
    }
   },
   "source": [
    "## Crimes Near University Park Campus\n",
    "\n",
    "Example function which calculates the number of crimes within 1 mile of University Park campus."
   ]
  },
  {
   "cell_type": "code",
   "execution_count": 9,
   "id": "76e22400-1d34-4ac0-bf4f-51723ccf1c38",
   "metadata": {
    "tags": [],
    "pycharm": {
     "name": "#%%\n"
    }
   },
   "outputs": [
    {
     "name": "stdout",
     "output_type": "stream",
     "text": [
      "135\n"
     ]
    }
   ],
   "source": [
    "def count_crimes_within_1_mile(\n",
    "    lat: float, lon: float, year: int, month: int\n",
    ") -> int:\n",
    "    \"\"\"Calculate number of crimes within 1 mile of a location for a date.\n",
    "\n",
    "    Args:\n",
    "        lat (float): Latitude of the location.\n",
    "        lon (float): Longitude of the location.\n",
    "        year (int): Year to find crimes.\n",
    "        month (int): Month of the provided year to find crimes.\n",
    "\n",
    "    Returns:\n",
    "        int: Count of the crimes\n",
    "    \"\"\"\n",
    "    url = (\n",
    "        API_STREET_CRIME + f\"all-crime?lat={lat}&lng={lon}&date={year}-{month}\"\n",
    "    )\n",
    "    response = requests.get(url)\n",
    "    if response.status_code == 200:\n",
    "        return len(response.json())\n",
    "    else:\n",
    "        print(f\"Error retrieving data: {response.status_code}\")\n",
    "\n",
    "\n",
    "print(count_crimes_within_1_mile(*LOCATION_UNIVERSITY_PARK, 2023, 1))"
   ]
  },
  {
   "cell_type": "markdown",
   "source": [
    "## 03 - Official Links to Nottinghamshire Police\n",
    "\n",
    "Function to get links to Police"
   ],
   "metadata": {
    "collapsed": false,
    "pycharm": {
     "name": "#%% md\n"
    }
   }
  },
  {
   "cell_type": "code",
   "execution_count": 40,
   "outputs": [
    {
     "name": "stdout",
     "output_type": "stream",
     "text": [
      "31-1\n",
      "31-10\n",
      "31-11\n",
      "31-12\n",
      "31-13\n",
      "31-14\n",
      "31-15\n",
      "31-16\n",
      "31-17\n",
      "31-18\n",
      "31-19\n",
      "31-2\n",
      "31-20\n",
      "31-21\n",
      "31-22\n",
      "31-23\n",
      "31-24\n",
      "31-25\n",
      "31-26\n",
      "31-27\n",
      "31-28\n",
      "31-29\n",
      "31-3\n",
      "31-30\n",
      "31-31\n",
      "31-32\n",
      "31-33\n",
      "31-34\n",
      "31-35\n",
      "31-36\n",
      "31-37\n",
      "31-38\n",
      "31-39\n",
      "31-4\n",
      "31-40\n",
      "31-41\n",
      "31-42\n",
      "31-43\n",
      "31-44\n",
      "31-45\n",
      "31-46\n",
      "31-47\n",
      "31-48\n",
      "31-49\n",
      "31-5\n",
      "31-50\n",
      "31-51\n",
      "31-52\n",
      "31-53\n",
      "31-54\n",
      "31-55\n",
      "31-56\n",
      "31-57\n",
      "31-6\n",
      "31-7\n",
      "31-8\n",
      "31-9\n",
      "       id                                               name  \\\n",
      "0    31-1                                 Kirkby In Ashfield   \n",
      "1   31-10                                    Bassetlaw Rural   \n",
      "2   31-11                                           Harworth   \n",
      "3   31-12                                            Retford   \n",
      "4   31-13                                      Worksop North   \n",
      "5   31-14                             Worksop North Villages   \n",
      "6   31-15                                      Worksop South   \n",
      "7   31-16                              Balderton and Farndon   \n",
      "8   31-17                 Collingham, Winthorpe and Villages   \n",
      "9   31-18                                             Newark   \n",
      "10  31-19  Bilsthorpe, Lowdham, Rainworth, Blidworth and ...   \n",
      "11   31-2                                 Sutton in Ashfield   \n",
      "12  31-20     Ollerton, Edwinstowe, Clipstone &amp; Villages   \n",
      "13  31-21                    Southwell, Caunton and Villages   \n",
      "14  31-22                                Bingham &amp; Trent   \n",
      "15  31-23                            Cotgrave &amp; Wiverton   \n",
      "16  31-24                               Leake &amp; Keyworth   \n",
      "17  31-25                                         Ruddington   \n",
      "18  31-26                                     West Bridgford   \n",
      "19  31-27                            Arnold &amp; Woodthorpe   \n",
      "20  31-28                 Calverton, Ravenshead and Villages   \n",
      "21  31-29                             Carlton and Porchester   \n",
      "22   31-3                                     Ashfield Rural   \n",
      "23  31-30                             Daybrook and Bonington   \n",
      "24  31-31                 Gedling, Burton Joyce and Villages   \n",
      "25  31-32                                            Beeston   \n",
      "26  31-33                                           Chilwell   \n",
      "27  31-34                                           Eastwood   \n",
      "28  31-35                                     Eastwood North   \n",
      "29  31-36                                     Eastwood South   \n",
      "30  31-37                                         Stapleford   \n",
      "31  31-38                                            Bulwell   \n",
      "32  31-39                                     Bulwell Forest   \n",
      "33   31-4                                           Hucknall   \n",
      "34  31-40                                           Bestwood   \n",
      "35  31-41                                            Basford   \n",
      "36  31-42                                             Aspley   \n",
      "37  31-43                                         Bilborough   \n",
      "38  31-44                                        Leen Valley   \n",
      "39  31-45                               Dunkirk &amp; Lenton   \n",
      "40  31-46                                 Radford &amp; Park   \n",
      "41  31-47                                      Wollaton West   \n",
      "42  31-48                                          Arboretum   \n",
      "43  31-49                                           Berridge   \n",
      "44   31-5                                    Mansfield North   \n",
      "45  31-50                                           Sherwood   \n",
      "46  31-51                                        City Centre   \n",
      "47  31-52                              Mapperley &amp; Wells   \n",
      "48  31-53                                           St Ann's   \n",
      "49  31-54                                 Sneinton and Dales   \n",
      "50  31-55                                            Clifton   \n",
      "51  31-56                                            Meadows   \n",
      "52  31-57                     Wollaton East and Lenton Abbey   \n",
      "53   31-6                                    Mansfield South   \n",
      "54   31-7                                             Warsop   \n",
      "55   31-8                                     Mansfield East   \n",
      "56   31-9                              Mansfield Town Centre   \n",
      "\n",
      "                                                 link  \n",
      "0   https://www.nottinghamshire.police.uk/neighbou...  \n",
      "1   https://www.nottinghamshire.police.uk/area/you...  \n",
      "2   https://www.nottinghamshire.police.uk/neighbou...  \n",
      "3   https://www.nottinghamshire.police.uk/area/you...  \n",
      "4   https://www.nottinghamshire.police.uk/neighbou...  \n",
      "5   https://www.nottinghamshire.police.uk/neighbou...  \n",
      "6   https://www.nottinghamshire.police.uk/neighbou...  \n",
      "7   https://www.nottinghamshire.police.uk/area/you...  \n",
      "8   https://www.nottinghamshire.police.uk/neighbou...  \n",
      "9   https://www.nottinghamshire.police.uk/neighbou...  \n",
      "10  https://www.nottinghamshire.police.uk/neighbou...  \n",
      "11  https://www.nottinghamshire.police.uk/neighbou...  \n",
      "12  https://www.nottinghamshire.police.uk/neighbou...  \n",
      "13  https://www.nottinghamshire.police.uk/neighbou...  \n",
      "14  https://www.nottinghamshire.police.uk/neighbou...  \n",
      "15  https://www.nottinghamshire.police.uk/neighbou...  \n",
      "16  https://www.nottinghamshire.police.uk/neighbou...  \n",
      "17  https://www.nottinghamshire.police.uk/neighbou...  \n",
      "18  https://www.nottinghamshire.police.uk/neighbou...  \n",
      "19             https://www.nottinghamshire.police.uk/  \n",
      "20  https://www.nottinghamshire.police.uk/neighbou...  \n",
      "21  https://www.nottinghamshire.police.uk/neighbou...  \n",
      "22             https://www.nottinghamshire.police.uk/  \n",
      "23  https://www.nottinghamshire.police.uk/neighbou...  \n",
      "24  https://www.nottinghamshire.police.uk/neighbou...  \n",
      "25  https://www.nottinghamshire.police.uk/area/you...  \n",
      "26  https://www.nottinghamshire.police.uk/neighbou...  \n",
      "27  https://www.nottinghamshire.police.uk/neighbou...  \n",
      "28  https://www.nottinghamshire.police.uk/neighbou...  \n",
      "29  https://www.nottinghamshire.police.uk/neighbou...  \n",
      "30  https://www.nottinghamshire.police.uk/neighbou...  \n",
      "31  https://www.nottinghamshire.police.uk/neighbou...  \n",
      "32  https://www.nottinghamshire.police.uk/neighbou...  \n",
      "33  https://www.nottinghamshire.police.uk/neighbou...  \n",
      "34  https://www.nottinghamshire.police.uk/area/you...  \n",
      "35  https://www.nottinghamshire.police.uk/area/you...  \n",
      "36  https://www.nottinghamshire.police.uk/area/you...  \n",
      "37  https://www.nottinghamshire.police.uk/neighbou...  \n",
      "38  https://www.nottinghamshire.police.uk/neighbou...  \n",
      "39  https://www.nottinghamshire.police.uk/neighbou...  \n",
      "40  https://www.nottinghamshire.police.uk/neighbou...  \n",
      "41  https://www.nottinghamshire.police.uk/neighbou...  \n",
      "42  https://www.nottinghamshire.police.uk/area/you...  \n",
      "43  https://www.nottinghamshire.police.uk/neighbou...  \n",
      "44  https://www.nottinghamshire.police.uk/neighbou...  \n",
      "45  https://www.nottinghamshire.police.uk/neighbou...  \n",
      "46  https://www.nottinghamshire.police.uk/neighbou...  \n",
      "47  https://www.nottinghamshire.police.uk/neighbou...  \n",
      "48  https://www.nottinghamshire.police.uk/neighbou...  \n",
      "49  https://www.nottinghamshire.police.uk/neighbou...  \n",
      "50  https://www.nottinghamshire.police.uk/neighbou...  \n",
      "51  https://www.nottinghamshire.police.uk/neighbou...  \n",
      "52  https://www.nottinghamshire.police.uk/neighbou...  \n",
      "53  https://www.nottinghamshire.police.uk/neighbou...  \n",
      "54  https://www.nottinghamshire.police.uk/neighbou...  \n",
      "55  https://www.nottinghamshire.police.uk/neighbou...  \n",
      "56  https://www.nottinghamshire.police.uk/neighbou...  \n"
     ]
    }
   ],
   "source": [
    "def get_links_for_force(\n",
    "    force: str\n",
    "):\n",
    "    \"\"\"Calculate number of crimes within 1 mile of a location for a date.\n",
    "\n",
    "    Args:\n",
    "        force (str): Name of Force\n",
    "\n",
    "    Returns:\n",
    "        List of strings: URLs of websites\n",
    "    \"\"\"\n",
    "    url = (\n",
    "        API_FORCE_URLS + f\"{force}/neighbourhoods\"\n",
    "    )\n",
    "    response = requests.get(url)\n",
    "    if response.status_code == 200:\n",
    "        neighbourhoods = pd.DataFrame.from_dict(response.json())\n",
    "    else:\n",
    "        print(f\"Error retrieving force data: {response.status_code}\")\n",
    "\n",
    "    neighbourhoods['link'] = \"\"\n",
    "\n",
    "    for index, row in neighbourhoods.iterrows():\n",
    "        url = (\n",
    "            API_FORCE_URLS + f\"{force}/{row['id']}\"\n",
    "        )\n",
    "        response = requests.get(url)\n",
    "        if response.status_code == 200:\n",
    "            contacts = response.json()\n",
    "            neighbourhoods.loc[index, 'link'] = contacts['url_force']\n",
    "        else:\n",
    "            print(f\"Error retrieving neighbourhood data: {response.status_code}\")\n",
    "\n",
    "    return neighbourhoods\n",
    "\n",
    "# Get links\n",
    "print(get_links_for_force('nottinghamshire'))"
   ],
   "metadata": {
    "collapsed": false,
    "pycharm": {
     "name": "#%%\n"
    }
   }
  },
  {
   "cell_type": "code",
   "execution_count": 37,
   "outputs": [
    {
     "ename": "NameError",
     "evalue": "name 'neighbourhoods' is not defined",
     "output_type": "error",
     "traceback": [
      "\u001B[1;31m---------------------------------------------------------------------------\u001B[0m",
      "\u001B[1;31mNameError\u001B[0m                                 Traceback (most recent call last)",
      "Input \u001B[1;32mIn [37]\u001B[0m, in \u001B[0;36m<cell line: 1>\u001B[1;34m()\u001B[0m\n\u001B[1;32m----> 1\u001B[0m \u001B[43mneighbourhoods\u001B[49m\n",
      "\u001B[1;31mNameError\u001B[0m: name 'neighbourhoods' is not defined"
     ]
    }
   ],
   "source": [
    "neighbourhoods"
   ],
   "metadata": {
    "collapsed": false,
    "pycharm": {
     "name": "#%%\n"
    }
   }
  },
  {
   "cell_type": "code",
   "execution_count": null,
   "outputs": [],
   "source": [],
   "metadata": {
    "collapsed": false,
    "pycharm": {
     "name": "#%%\n"
    }
   }
  }
 ],
 "metadata": {
  "kernelspec": {
   "display_name": "Python 3 (ipykernel)",
   "language": "python",
   "name": "python3"
  },
  "language_info": {
   "codemirror_mode": {
    "name": "ipython",
    "version": 3
   },
   "file_extension": ".py",
   "mimetype": "text/x-python",
   "name": "python",
   "nbconvert_exporter": "python",
   "pygments_lexer": "ipython3",
   "version": "3.11.2"
  }
 },
 "nbformat": 4,
 "nbformat_minor": 5
}